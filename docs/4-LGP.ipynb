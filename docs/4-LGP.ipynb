{
 "cells": [
  {
   "cell_type": "markdown",
   "metadata": {},
   "source": [
    "# 4. Logic-Geometric Programming: Skeleton Interface\n",
    "\n",
    "* Formally, in papers, a skeleton is defined by the sequence $a_{1:K}$ of symbolic decisions. Note that, given the decision rules, such a sequence also defines the sequence of logical state $s_{1:K}$. Practially, in the code, we define a skeleton to be a simple data structure that captures the relevant information from both, $a_{1:K}$ and $s_{1:K}$.\n",
    "* A skeleton is a list of tuples $(t_\\text{start}, t_\\text{end}, \\text{literal})$, where $t_\\text{start}$ denotes the time (actually real-valued phase, but typically the integer k) at which a certain literal becomes true, $t_\\text{end}$ denotes the time when the literal was deleted, and `literal` is a some literal, e.g. `(stable hand object)`. In our case, the literals only include symbols (no real-valued constants), the first of which is the predicate, and the others typically refer to objects.\n",
    "* The skeleton interface to LGP means that you can define a skeleton, and let the algorithm compute a corresponding path. Note that this does not solve the search over symbolic decisions. It allows you to specify the path constraints on the same abstract level that is used internally for LGP.\n",
    "* Currently implemented skeleton predicates are:\n",
    "\n",
    "| predicate | arguments | description |\n",
    "|---|---|---|\n",
    "| touch | (obj1, obj2) | zero distance equality |\n",
    "| above | (obj, table) | center of object vertically inside convex table |\n",
    "| inside | (obj, box) | center of object inside convex box |\n",
    "| impulse | (obj1, obj2) | impule exchange equation |\n",
    "| stable | (from, to) | stable but free (7dof) relation |\n",
    "| stableOn | (from, to) | stable constrained (3dof xyphi) relation |\n",
    "| dynamic | (from, to) | free dynamics and corresponding equation |\n",
    "| dynamicOn | (from, to) | constrained 3dof dynamics |\n",
    "| liftDownUp | | |\n",
    "| push | | |\n",
    "| graspSlide| | |\n",
    "\n",
    "* Generally, a skeleton is translated to a set of objectives (and kinematic switches, and other internal things) for a path or configuration optimization problem. Note that this translation is not unique: In particular, for the same skeleton we can compute different *bounds*, each of which corresponds to a different optimization problem. In `bounds.h` in the `LGP/` module several mappings from a skeleton to an optimization problem are defined. These differ in terms of the objective set, but in terms of parameters like the resolution of the path discretization.\n",
    "* To summarize, in LGP a decision sequence $a_{1:K}$ maps to a skeleton $S$ -- this mapping is defined by the decision rules which state which literals are created by which decisions (typically defined in `fol.g`). And then the skeleton $S$ is mapped to a constrained optimization problem (as set of objectives) -- this mapping is defined by the bound."
   ]
  },
  {
   "cell_type": "code",
   "execution_count": 1,
   "metadata": {},
   "outputs": [],
   "source": [
    "import sys\n",
    "sys.path.append('../src/ry')\n",
    "from libry import *\n",
    "from numpy import *"
   ]
  },
  {
   "cell_type": "code",
   "execution_count": 2,
   "metadata": {},
   "outputs": [],
   "source": [
    "K = Configuration()\n",
    "D = K.camera()"
   ]
  },
  {
   "cell_type": "code",
   "execution_count": 3,
   "metadata": {},
   "outputs": [],
   "source": [
    "K.addFile(\"../test/lgp-example.g\")"
   ]
  },
  {
   "cell_type": "markdown",
   "metadata": {},
   "source": [
    "We're creating the same skeleton that'd be created by the decision sequence\n",
    "```\n",
    "(grasp baxterR stick) (handover baxterR stick baxterL) (hitSlide stickTip redBall table1) (graspSlide baxterR redBall table1)\n",
    "```\n",
    "which is a standard demo in the RSS'18 paper"
   ]
  },
  {
   "cell_type": "code",
   "execution_count": 4,
   "metadata": {},
   "outputs": [],
   "source": [
    "komo = K.komo_path(1.)\n",
    "\n",
    "#(grasp baxterR stick)\n",
    "komo.addSkeleton([1,1], [\"touch\", \"baxterR\", \"stick\"] )\n",
    "komo.addSkeleton([1,1], [\"stable\", \"baxterR\", \"stick\"] )\n",
    "komo.addSkeleton([1,1], [\"liftDownUp\", \"baxterR\"] )\n",
    "\n",
    "#(handover baxterR stick baxterL)\n",
    "komo.addSkeleton([2,2], [\"touch\", \"baxterL\", \"stick\"] )\n",
    "komo.addSkeleton([2,4], [\"stable\", \"baxterL\", \"stick\"] )\n",
    "\n",
    "#(hitSlide stickTip redBall table1)\n",
    "komo.addSkeleton([3,3], [\"touch\", \"stickTip\", \"redBall\"] )\n",
    "komo.addSkeleton([3,3], [\"impulse\", \"stickTip\", \"redBall\"] )\n",
    "komo.addSkeleton([3,3], [\"dynamicOn\", \"table1\", \"redBall\"] )\n",
    "\n",
    "#(graspSlide baxterR redBall table1)\n",
    "komo.addSkeleton([4,4], [\"graspSlide\", \"baxterR\", \"redBall\", \"table1\"] )"
   ]
  },
  {
   "cell_type": "code",
   "execution_count": 5,
   "metadata": {},
   "outputs": [],
   "source": [
    "komo.skeleton2bound()\n",
    "komo.optimize()"
   ]
  },
  {
   "cell_type": "code",
   "execution_count": 6,
   "metadata": {},
   "outputs": [],
   "source": [
    "for t in range(0, komo.getT()):\n",
    "        komo.getConfiguration(t)"
   ]
  },
  {
   "cell_type": "code",
   "execution_count": 7,
   "metadata": {},
   "outputs": [],
   "source": [
    "K.clear()\n",
    "komo=0\n",
    "D=0\n",
    "K=0"
   ]
  },
  {
   "cell_type": "code",
   "execution_count": 2,
   "metadata": {},
   "outputs": [],
   "source": [
    "K = Configuration()\n",
    "D = K.camera()\n",
    "K.addFile(\"../test/boxProblem.g\")"
   ]
  },
  {
   "cell_type": "code",
   "execution_count": 3,
   "metadata": {},
   "outputs": [],
   "source": [
    "komo = K.komo_path(1., 50, 2.);\n",
    "\n",
    "# this is all yet 'magic' -> clearer interface\n",
    "komo.timeOptimization();\n",
    "komo.deactivateCollisionPairs([[\"boxBo\", \"boxLe\"], [\"boxBo\", \"boxBa\"], [\"boxLe\", \"boxBa\"]]);\n",
    "komo.makeObjectsFree([\"ballR\"]);\n",
    "komo.addObjective([], [.05, -1.], \"eq\", \"physics\", [\"ballR\"], [1e-1]);\n",
    "komo.addObjective([], [.05, -1.], \"ineq\", \"energy\", [], [1e-1]);\n",
    "komo.addObjective([], [], \"sos\", \"accumulatedCollisions\", [], [1.]);\n",
    "komo.addObjective([], [], \"eq\", \"contactConstraints\", [], [3e1]);\n",
    "\n",
    "# this is the skeleton\n",
    "komo.addSkeleton([.4, .4], [\"contact\", \"boxBo\", \"ballR\"] );\n",
    "komo.addSkeleton([.6, .6], [\"contact\", \"boxBo\", \"ballR\"] );\n",
    "komo.addSkeleton([.8, .8], [\"contact\", \"boxBo\", \"ballR\"] );\n",
    "komo.addSkeleton([1., 1.], [\"touch\", \"target\", \"ballR\"] );\n",
    "komo.setSkeleton();"
   ]
  },
  {
   "cell_type": "code",
   "execution_count": 4,
   "metadata": {},
   "outputs": [],
   "source": [
    "komo.optimize();"
   ]
  },
  {
   "cell_type": "code",
   "execution_count": 5,
   "metadata": {},
   "outputs": [],
   "source": [
    "for t in range(0, komo.getT()):\n",
    "        komo.getConfiguration(t)"
   ]
  },
  {
   "cell_type": "code",
   "execution_count": null,
   "metadata": {},
   "outputs": [],
   "source": []
  },
  {
   "cell_type": "code",
   "execution_count": null,
   "metadata": {},
   "outputs": [],
   "source": []
  }
 ],
 "metadata": {
  "kernelspec": {
   "display_name": "Python 3",
   "language": "python",
   "name": "python3"
  },
  "language_info": {
   "codemirror_mode": {
    "name": "ipython",
    "version": 3
   },
   "file_extension": ".py",
   "mimetype": "text/x-python",
   "name": "python",
   "nbconvert_exporter": "python",
   "pygments_lexer": "ipython3",
   "version": "3.5.2"
  }
 },
 "nbformat": 4,
 "nbformat_minor": 2
}
