{
 "cells": [
  {
   "cell_type": "markdown",
   "metadata": {},
   "source": [
    "# Tutorial 1\n",
    "\n",
    "## other doc sources\n",
    "https://github.com/MarcToussaint/rai-maintenance/tree/master/help"
   ]
  },
  {
   "cell_type": "code",
   "execution_count": 1,
   "metadata": {},
   "outputs": [],
   "source": [
    "import sys\n",
    "sys.path.append('../src/ry')\n",
    "from libry import *\n",
    "from numpy import *"
   ]
  },
  {
   "cell_type": "markdown",
   "metadata": {},
   "source": [
    "The starting point is to create a `Configuration`."
   ]
  },
  {
   "cell_type": "code",
   "execution_count": 2,
   "metadata": {},
   "outputs": [],
   "source": [
    "K = Configuration()"
   ]
  },
  {
   "cell_type": "markdown",
   "metadata": {},
   "source": [
    "Other computational modules -- such as computing views, path planning, inverse kinematics, physical simulation, collision detection -- all refer to a particular configuration. You get a handle to these algorithms from a configuration. Here, we get a view for configuration `K`. (Recommendation: make the view window appear \"Always On Top\")"
   ]
  },
  {
   "cell_type": "code",
   "execution_count": 3,
   "metadata": {},
   "outputs": [],
   "source": [
    "D = K.camera()"
   ]
  },
  {
   "cell_type": "markdown",
   "metadata": {},
   "source": [
    "You can add things (objects, scene models, robots) to a configuration. As the view is strictly referring to the configuration, it automatically updates."
   ]
  },
  {
   "cell_type": "code",
   "execution_count": 4,
   "metadata": {},
   "outputs": [],
   "source": [
    "K.clear();\n",
    "K.addFile('../rai-robotModels/pr2/pr2.g');\n",
    "K.addFile('../test/kitchen.g');"
   ]
  },
  {
   "cell_type": "markdown",
   "metadata": {},
   "source": [
    "TODO: We can create a 2nd configuration, and copy it."
   ]
  },
  {
   "cell_type": "code",
   "execution_count": 5,
   "metadata": {},
   "outputs": [],
   "source": [
    "#K2 = K\n",
    "#D2 = K2.camera()\n",
    "#q = K2.getJointState()\n",
    "#q = 0*q\n",
    "#K2.setJointState(q)"
   ]
  },
  {
   "cell_type": "markdown",
   "metadata": {},
   "source": [
    "A configuration is a tree of frames. Some frames have a fixed relative transformation to the parent, others are joints, meaning that the relative transformation to the parent is determined by *degrees of freedom*. We can query and set the *joint state*, which is vector of all degrees of freedom:"
   ]
  },
  {
   "cell_type": "code",
   "execution_count": 6,
   "metadata": {},
   "outputs": [
    {
     "name": "stdout",
     "output_type": "stream",
     "text": [
      "joint state:  [ 0.    0.    0.    0.1   0.    0.   -1.    1.    0.4   0.5   0.5  -1.    1.\n",
      " -2.   -2.   -1.5   1.5  -0.5  -0.5  -0.5   0.5   0.1   0.1   0.01  0.01]\n",
      "joint names:  ['worldTranslationRotation:0', 'worldTranslationRotation:1', 'worldTranslationRotation:2', 'torso_lift_joint', 'head_pan_joint', 'laser_tilt_mount_joint', 'r_shoulder_pan_joint', 'l_shoulder_pan_joint', 'head_tilt_joint', 'r_shoulder_lift_joint', 'l_shoulder_lift_joint', 'r_upper_arm_roll_joint', 'l_upper_arm_roll_joint', 'r_elbow_flex_joint', 'l_elbow_flex_joint', 'r_forearm_roll_joint', 'l_forearm_roll_joint', 'r_wrist_flex_joint', 'l_wrist_flex_joint', 'r_wrist_roll_joint', 'l_wrist_roll_joint', 'r_gripper_l_finger_joint', 'l_gripper_l_finger_joint', 'r_gripper_joint', 'l_gripper_joint']\n"
     ]
    }
   ],
   "source": [
    "q = K.getJointState()\n",
    "print('joint state: ', q)\n",
    "print('joint names: ', K.getJointNames() )\n",
    "q[2] = q[2] + 1.\n",
    "K.setJointState(q)"
   ]
  },
  {
   "cell_type": "markdown",
   "metadata": {},
   "source": [
    "The *frame state* is a $n\\times 7$ matrix, which contains for all of $n$ frames the 7D pose. A pose is stored as [p_x, p_y, p_z, q_w, q_x, q_y, q_z], wich position p and quaternion q."
   ]
  },
  {
   "cell_type": "code",
   "execution_count": 8,
   "metadata": {},
   "outputs": [
    {
     "name": "stdout",
     "output_type": "stream",
     "text": [
      "frame state:  [[ 0.          0.          0.         ...,  0.          0.          0.        ]\n",
      " [ 0.          0.          0.         ...,  0.          0.          0.47942554]\n",
      " [-0.02701518 -0.04207355  0.89067506 ...,  0.33900515 -0.62054477\n",
      "   0.33900515]\n",
      " ..., \n",
      " [-2.          0.          0.385      ...,  0.          0.          0.707107  ]\n",
      " [-0.5         2.          0.4        ...,  0.          0.          0.        ]\n",
      " [ 0.5         2.          0.4        ...,  0.          0.          0.        ]]\n"
     ]
    }
   ],
   "source": [
    "X0 = K.getFrameState()\n",
    "print('frame state: ', X0)\n",
    "X = X0 + .1\n",
    "K.setFrameState(X.flatten().tolist())"
   ]
  },
  {
   "cell_type": "markdown",
   "metadata": {},
   "source": [
    "What happened here? We brutally added 0.1 to all poses of all frames, also making the quaternions non-normalized. This is setting frame poses in world coordinates; internally all the relative poses of the frame tree are computed as consistent to the absolute frames (child->X/parent->X). If a frame happens to be a joint, also the respective joint state is computed, e.g., reading out what rotation angle around the joint axis these absolute frames imply. If the set absolute frames are inconsistent to joint constraints that leaves the configuration in an awkward state: For now, the absolute frames are as commanded. But if we'd read out the joint state and set the same joint state, the frame state will change:"
   ]
  },
  {
   "cell_type": "code",
   "execution_count": 9,
   "metadata": {},
   "outputs": [],
   "source": [
    "K.setJointState( K.getJointState() )"
   ]
  },
  {
   "cell_type": "markdown",
   "metadata": {},
   "source": [
    "Let's bring the configuration back into the state before the harsh *setFrame*"
   ]
  },
  {
   "cell_type": "code",
   "execution_count": 10,
   "metadata": {},
   "outputs": [],
   "source": [
    "K.setFrameState(X0.flatten().tolist())"
   ]
  },
  {
   "cell_type": "markdown",
   "metadata": {},
   "source": [
    "We can add new frames. First a yellow ball (without parent) at absolute pose `X`:"
   ]
  },
  {
   "cell_type": "code",
   "execution_count": 11,
   "metadata": {},
   "outputs": [],
   "source": [
    "K.addFrame(\"ball\", \"\", \"shape:sphere size:[0 0 0 .1] color:[1 1 0] X:<t(.8 .8 1.5)>\" );"
   ]
  },
  {
   "cell_type": "markdown",
   "metadata": {},
   "source": [
    "Or a sphere-swept box attached to the left hand with relative pose `Q`:"
   ]
  },
  {
   "cell_type": "code",
   "execution_count": 12,
   "metadata": {},
   "outputs": [],
   "source": [
    "K.addFrame(\"hand\", \"pr2L\", \"shape:ssBox size:[.3 .2 .1 .01] color:[1 1 0] Q:<t(0 0 0)>\" );"
   ]
  },
  {
   "cell_type": "markdown",
   "metadata": {},
   "source": [
    "We can also add a frame, attached to the head, which has no shape associated to it, but create a view is associated with that frame:"
   ]
  },
  {
   "cell_type": "code",
   "execution_count": 13,
   "metadata": {},
   "outputs": [],
   "source": [
    "K.addFrame(\"camera\", \"head_tilt_link\", \"Q:<d(-90 1 0 0) d(180 0 0 1)> focalLength:.3\")\n",
    "C = K.camera(frame=\"camera\")"
   ]
  },
  {
   "cell_type": "markdown",
   "metadata": {},
   "source": [
    "When we move the robot, that view moves with it:"
   ]
  },
  {
   "cell_type": "code",
   "execution_count": 14,
   "metadata": {},
   "outputs": [],
   "source": [
    "K.setJointState(q=asarray([1.]), joints=['head_pan_joint'])"
   ]
  },
  {
   "cell_type": "markdown",
   "metadata": {},
   "source": [
    "To close a view (or destroy a handle to a computational module), we reassign it to zero. We can also remove a frame from the configuration."
   ]
  },
  {
   "cell_type": "code",
   "execution_count": 15,
   "metadata": {},
   "outputs": [],
   "source": [
    "C = 0\n",
    "K.delFrame('camera')"
   ]
  },
  {
   "cell_type": "markdown",
   "metadata": {},
   "source": [
    "This solves a simple IK problem, defined by an equality constraint on the difference in position of 'ball' and 'hand'"
   ]
  },
  {
   "cell_type": "code",
   "execution_count": 16,
   "metadata": {},
   "outputs": [],
   "source": [
    "IK = K.komo_IK()\n",
    "IK.addObjective(type='eq', feature='positionDiff', frames=['ball', 'hand'])\n",
    "IK.optimize()\n",
    "IK.getConfiguration(0)"
   ]
  },
  {
   "cell_type": "markdown",
   "metadata": {},
   "source": [
    "We can reuse the optimization object, change the objective a bit (now the position difference is constrained to be [.1,.1,.1] in world coordinates), and reoptimize"
   ]
  },
  {
   "cell_type": "code",
   "execution_count": 17,
   "metadata": {},
   "outputs": [],
   "source": [
    "IK.clearObjectives()\n",
    "IK.addObjective(type='eq', feature='positionDiff', frames=['hand', 'ball'], target=[.1, .1, .1])\n",
    "IK.optimize()\n",
    "IK.getConfiguration(0)"
   ]
  },
  {
   "cell_type": "markdown",
   "metadata": {},
   "source": [
    "TODO demos:\n",
    "\n",
    "* rename Camera -> View\n",
    "* copy configurations\n",
    "* have multiple configurations and views in parallel\n",
    "* selecting/modifying DOFs (i.e., which joints are considered DOFs)\n",
    "* I/O with other file formats?"
   ]
  }
 ],
 "metadata": {
  "kernelspec": {
   "display_name": "Python 3",
   "language": "python",
   "name": "python3"
  },
  "language_info": {
   "codemirror_mode": {
    "name": "ipython",
    "version": 3
   },
   "file_extension": ".py",
   "mimetype": "text/x-python",
   "name": "python",
   "nbconvert_exporter": "python",
   "pygments_lexer": "ipython3",
   "version": "3.5.2"
  }
 },
 "nbformat": 4,
 "nbformat_minor": 2
}
